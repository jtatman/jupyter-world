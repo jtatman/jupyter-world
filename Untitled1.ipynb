{
 "cells": [
  {
   "cell_type": "code",
   "execution_count": null,
   "id": "ae41d47b",
   "metadata": {},
   "outputs": [],
   "source": [
    " # GAN \n",
    "    \n",
    "#Copy data from the GCS (Google Cloud Storage)\n",
    "!rm -r /content/gansynth &>/dev/null\n",
    "!mkdir /content/gansynth\n",
    "!mkdir /content/gansynth/midi\n",
    "!mkdir /content/gansynth/samples\n",
    "# Load default MIDI (Bach Prelude)\n",
    "#’curl’ command enables fetching a given URL \n",
    "!curl -o /content/gansynth/midi/bach.mid http://www.jsbach.net/midi/cs1-1pre.mid \n"
   ]
  },
  {
   "cell_type": "code",
   "execution_count": null,
   "id": "10ea46f5",
   "metadata": {},
   "outputs": [],
   "source": [
    "SONG = '/content/gansynth/midi/bach.mid'\n",
    "!curl -o /content/gansynth/midi/riff-default.mid \n",
    "http://storage.googleapis.com/magentadata/papers/gansynth/midi/arp.mid\n",
    "RIFF = '/content/gansynth/midi/riff-default.mid'\n",
    "!pip install -q -U magenta "
   ]
  },
  {
   "cell_type": "code",
   "execution_count": null,
   "id": "5d5e901b",
   "metadata": {},
   "outputs": [],
   "source": [
    "import os #module for interacting with the operating system\n",
    "#To load files from local device (weblink)\n",
    "from google.colab import files \n",
    "import librosa #Python library for music and audio analysis\n",
    "from magenta.models.nsynth.utils import load_audio\n",
    "from magenta.models.gansynth.lib import flags as lib_flags\n",
    "from magenta.models.gansynth.lib import generate_util as gu\n",
    "from magenta.models.gansynth.lib import model as lib_model\n",
    "from magenta.models.gansynth.lib import util\n",
    "import matplotlib.pyplot as plt #for visualization\n",
    "import note_seq\n",
    "from note_seq.notebook_utils import colab_play as play\n",
    "#colab_play() inserts an HTML audio widget to play a sound in colab\n",
    "import numpy as np\n",
    "import tensorflow.compat.v1 as tf\n",
    "#disable_v2_behavior() switches all global behaviors which vary between  \n",
    "#tensorflow 1.x and 2.x versions to behave as in 1.x.\n",
    "tf.disable_v2_behavior()  "
   ]
  },
  {
   "cell_type": "code",
   "execution_count": null,
   "id": "fa505dc1",
   "metadata": {},
   "outputs": [],
   "source": [
    "def upload():\n",
    "    map = files.upload() #Upload the file \n",
    "    list = [] Initialize list to store names of uploaded files\n",
    "    #Use iteritems() to iterate over key-value pairs of the dictionary of uploaded file content\n",
    "    for key, val in map.iteritems():\n",
    "        filename = os.path.join('/content/gansynth/midi', key)\n",
    "        with open(filename, 'w') as file: #open the file in write mode\n",
    "        #write the content of uploaded file to the specified file\n",
    "        file.write(val) \n",
    "        print('Writing the file {}'.format(filename))\n",
    "        list.append(filename) #Add the filename to the list \n",
    "    return list "
   ]
  },
  {
   "cell_type": "code",
   "execution_count": null,
   "id": "c720b329",
   "metadata": {},
   "outputs": [],
   "source": [
    "#checkpoint directory\n",
    "CHECKPOINT_DIR = 'gs://magentadata/models/gansynth/acoustic_only'\n",
    "OP_DIR = '/content/gansynth/samples' #output directory\n",
    "BATCH_SIZE = 16\n",
    "SR = 16000 #SR stands for Sample Rate "
   ]
  },
  {
   "cell_type": "code",
   "execution_count": null,
   "id": "0877e366",
   "metadata": {},
   "outputs": [],
   "source": [
    "#Expand the path of parent directory using expand_path()\n",
    "OP_DIR = util.expand_path(opdir)\n",
    "#tensorflow.gfile.Exists() determines existence of a file\n",
    "if not tf.gfile.Exists(OP_DIR):\n",
    "#Create a directory using tensorflow.gfile.MakeDirs()\n",
    "tf.gfile.MakeDirs(OP_DIR) "
   ]
  },
  {
   "cell_type": "code",
   "execution_count": null,
   "id": "39d1c6bb",
   "metadata": {},
   "outputs": [],
   "source": []
  }
 ],
 "metadata": {
  "kernelspec": {
   "display_name": "Python3 (torch-ml)",
   "language": "python",
   "name": "jupyter-general"
  },
  "language_info": {
   "codemirror_mode": {
    "name": "ipython",
    "version": 3
   },
   "file_extension": ".py",
   "mimetype": "text/x-python",
   "name": "python",
   "nbconvert_exporter": "python",
   "pygments_lexer": "ipython3",
   "version": "3.10.9"
  }
 },
 "nbformat": 4,
 "nbformat_minor": 5
}
