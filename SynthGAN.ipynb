{
 "cells": [
  {
   "cell_type": "code",
   "execution_count": 1,
   "id": "bdcb18a9",
   "metadata": {},
   "outputs": [
    {
     "name": "stderr",
     "output_type": "stream",
     "text": [
      "A subdirectory or file content already exists.\n",
      "A subdirectory or file content\\gansynth already exists.\n",
      "A subdirectory or file content\\gansynth\\midi already exists.\n",
      "A subdirectory or file content\\gansynth\\samples already exists.\n",
      "  % Total    % Received % Xferd  Average Speed   Time    Time     Time  Current\n",
      "                                 Dload  Upload   Total   Spent    Left  Speed\n",
      "\n",
      "  0     0    0     0    0     0      0      0 --:--:-- --:--:-- --:--:--     0\n",
      "  0     0    0     0    0     0      0      0 --:--:-- --:--:-- --:--:--     0\n",
      "100  4922  100  4922    0     0   6564      0 --:--:-- --:--:-- --:--:--  6571\n"
     ]
    }
   ],
   "source": [
    "# GAN SYNTH\n",
    "# need to convert to tensorflow2\n",
    "# run with direct-ml tensorflow1 kernel for conversion\n",
    "\n",
    "\n",
    "#Copy data from the GCS (Google Cloud Storage)\n",
    "#!rm -r content/gansynth &>/dev/null\n",
    "!mkdir \"content\"\n",
    "!mkdir \"content\\gansynth\"\n",
    "!mkdir \"content\\gansynth\\midi\"\n",
    "!mkdir \"content\\gansynth\\samples\"\n",
    "# Load default MIDI (Bach Prelude)\n",
    "#’curl’ command enables fetching a givn URL \n",
    "!curl -o content/gansynth/midi/bach.mid http://www.jsbach.net/midi/cs1-1pre.mid \n"
   ]
  },
  {
   "cell_type": "code",
   "execution_count": 2,
   "id": "3e276332",
   "metadata": {},
   "outputs": [
    {
     "name": "stderr",
     "output_type": "stream",
     "text": [
      "  % Total    % Received % Xferd  Average Speed   Time    Time     Time  Current\n",
      "                                 Dload  Upload   Total   Spent    Left  Speed\n",
      "\n",
      "  0     0    0     0    0     0      0      0 --:--:-- --:--:-- --:--:--     0\n",
      "  0     0    0     0    0     0      0      0 --:--:-- --:--:-- --:--:--     0\n",
      "100  1083  100  1083    0     0   1917      0 --:--:-- --:--:-- --:--:--  1916\n",
      "    ERROR: Command errored out with exit status 1:\n",
      "     command: 'C:\\Users\\stora\\anaconda3\\python.exe' -c 'import io, os, sys, setuptools, tokenize; sys.argv[0] = '\"'\"'C:\\\\Users\\\\stora\\\\AppData\\\\Local\\\\Temp\\\\pip-install-mhrho0h7\\\\numba_7dd183bcaa27445ea75a01f8a6df73f8\\\\setup.py'\"'\"'; __file__='\"'\"'C:\\\\Users\\\\stora\\\\AppData\\\\Local\\\\Temp\\\\pip-install-mhrho0h7\\\\numba_7dd183bcaa27445ea75a01f8a6df73f8\\\\setup.py'\"'\"';f = getattr(tokenize, '\"'\"'open'\"'\"', open)(__file__) if os.path.exists(__file__) else io.StringIO('\"'\"'from setuptools import setup; setup()'\"'\"');code = f.read().replace('\"'\"'\\r\\n'\"'\"', '\"'\"'\\n'\"'\"');f.close();exec(compile(code, __file__, '\"'\"'exec'\"'\"'))' egg_info --egg-base 'C:\\Users\\stora\\AppData\\Local\\Temp\\pip-pip-egg-info-mphemke_'\n",
      "         cwd: C:\\Users\\stora\\AppData\\Local\\Temp\\pip-install-mhrho0h7\\numba_7dd183bcaa27445ea75a01f8a6df73f8\\\n",
      "    Complete output (43 lines):\n",
      "    Traceback (most recent call last):\n",
      "      File \"C:\\Users\\stora\\anaconda3\\lib\\site-packages\\pkg_resources\\__init__.py\", line 3016, in _dep_map\n",
      "        return self.__dep_map\n",
      "      File \"C:\\Users\\stora\\anaconda3\\lib\\site-packages\\pkg_resources\\__init__.py\", line 2813, in __getattr__\n",
      "        raise AttributeError(attr)\n",
      "    AttributeError: _DistInfoDistribution__dep_map\n",
      "    \n",
      "    During handling of the above exception, another exception occurred:\n",
      "    \n",
      "    Traceback (most recent call last):\n",
      "      File \"C:\\Users\\stora\\anaconda3\\lib\\site-packages\\pkg_resources\\__init__.py\", line 3007, in _parsed_pkg_info\n",
      "        return self._pkg_info\n",
      "      File \"C:\\Users\\stora\\anaconda3\\lib\\site-packages\\pkg_resources\\__init__.py\", line 2813, in __getattr__\n",
      "        raise AttributeError(attr)\n",
      "    AttributeError: _pkg_info\n",
      "    \n",
      "    During handling of the above exception, another exception occurred:\n",
      "    \n",
      "    Traceback (most recent call last):\n",
      "      File \"<string>\", line 1, in <module>\n",
      "      File \"C:\\Users\\stora\\AppData\\Local\\Temp\\pip-install-mhrho0h7\\numba_7dd183bcaa27445ea75a01f8a6df73f8\\setup.py\", line 360, in <module>\n",
      "        setup(**metadata)\n",
      "      File \"C:\\Users\\stora\\anaconda3\\lib\\site-packages\\setuptools\\__init__.py\", line 152, in setup\n",
      "        _install_setup_requires(attrs)\n",
      "      File \"C:\\Users\\stora\\anaconda3\\lib\\site-packages\\setuptools\\__init__.py\", line 147, in _install_setup_requires\n",
      "        dist.fetch_build_eggs(dist.setup_requires)\n",
      "      File \"C:\\Users\\stora\\anaconda3\\lib\\site-packages\\setuptools\\dist.py\", line 806, in fetch_build_eggs\n",
      "        resolved_dists = pkg_resources.working_set.resolve(\n",
      "      File \"C:\\Users\\stora\\anaconda3\\lib\\site-packages\\pkg_resources\\__init__.py\", line 780, in resolve\n",
      "        new_requirements = dist.requires(req.extras)[::-1]\n",
      "      File \"C:\\Users\\stora\\anaconda3\\lib\\site-packages\\pkg_resources\\__init__.py\", line 2734, in requires\n",
      "        dm = self._dep_map\n",
      "      File \"C:\\Users\\stora\\anaconda3\\lib\\site-packages\\pkg_resources\\__init__.py\", line 3018, in _dep_map\n",
      "        self.__dep_map = self._compute_dependencies()\n",
      "      File \"C:\\Users\\stora\\anaconda3\\lib\\site-packages\\pkg_resources\\__init__.py\", line 3027, in _compute_dependencies\n",
      "        for req in self._parsed_pkg_info.get_all('Requires-Dist') or []:\n",
      "      File \"C:\\Users\\stora\\anaconda3\\lib\\site-packages\\pkg_resources\\__init__.py\", line 3009, in _parsed_pkg_info\n",
      "        metadata = self.get_metadata(self.PKG_INFO)\n",
      "      File \"C:\\Users\\stora\\anaconda3\\lib\\site-packages\\pkg_resources\\__init__.py\", line 1407, in get_metadata\n",
      "        value = self._get(path)\n",
      "      File \"C:\\Users\\stora\\anaconda3\\lib\\site-packages\\pkg_resources\\__init__.py\", line 1611, in _get\n",
      "        with open(path, 'rb') as stream:\n",
      "    FileNotFoundError: [Errno 2] No such file or directory: 'c:\\\\users\\\\stora\\\\anaconda3\\\\lib\\\\site-packages\\\\numpy-1.20.3.dist-info\\\\METADATA'\n",
      "    ----------------------------------------\n",
      "WARNING: Discarding https://files.pythonhosted.org/packages/a8/23/d56b70e79c18c34c1787bf2cda957f821790ec7ccd35a1962d5be102d572/numba-0.49.1.tar.gz#sha256=89e1ad8215918036b0ffc53501888d44ed44c1f2cb09a9e047d06af5cd7e7a5a (from https://pypi.org/simple/numba/) (requires-python:>=3.6). Command errored out with exit status 1: python setup.py egg_info Check the logs for full command output.\n",
      "ERROR: Could not install packages due to an OSError: [Errno 2] No such file or directory: 'c:\\\\users\\\\stora\\\\anaconda3\\\\lib\\\\site-packages\\\\numpy-1.20.3.dist-info\\\\METADATA'\n",
      "\n"
     ]
    }
   ],
   "source": [
    "SONG = 'content\\gansynth\\midi\\bach.mid'\n",
    "!curl -o \"content\\gansynth\\midi\\riff-default.mid\" http://storage.googleapis.com/magentadata/papers/gansynth/midi/arp.mid\n",
    "RIFF = 'content\\gansynth\\midi\\riff-default.mid'\n",
    "!pip install -q -U magenta "
   ]
  },
  {
   "cell_type": "code",
   "execution_count": null,
   "id": "0cb2240b",
   "metadata": {},
   "outputs": [],
   "source": [
    "import os #module for interacting with the operating system\n",
    "#To load files from local device (weblink)\n",
    "from google.colab import files \n",
    "import librosa #Python library for music and audio analysis\n",
    "from magenta.models.nsynth.utils import load_audio\n",
    "from magenta.models.gansynth.lib import flags as lib_flags\n",
    "from magenta.models.gansynth.lib import generate_util as gu\n",
    "from magenta.models.gansynth.lib import model as lib_model\n",
    "from magenta.models.gansynth.lib import util\n",
    "import matplotlib.pyplot as plt #for visualization\n",
    "import note_seq\n",
    "from note_seq.notebook_utils import colab_play as play\n",
    "#colab_play() inserts an HTML audio widget to play a sound in colab\n",
    "import numpy as np\n",
    "import tensorflow.compat.v1 as tf\n",
    "#disable_v2_behavior() switches all global behaviors which vary between  \n",
    "#tensorflow 1.x and 2.x versions to behave as in 1.x.\n",
    "tf.disable_v2_behavior()  "
   ]
  },
  {
   "cell_type": "code",
   "execution_count": null,
   "id": "4c765242",
   "metadata": {},
   "outputs": [],
   "source": [
    "def upload():\n",
    "    map = files.upload() #Upload the file \n",
    "    list = [] Initialize list to store names of uploaded files\n",
    "    #Use iteritems() to iterate over key-value pairs of the dictionary of uploaded file content\n",
    "    for key, val in map.iteritems():\n",
    "        filename = os.path.join('content/gansynth/midi', key)\n",
    "        with open(filename, 'w') as file: #open the file in write mode\n",
    "        #write the content of uploaded file to the specified file\n",
    "        file.write(val) \n",
    "        print('Writing the file {}'.format(filename))\n",
    "        list.append(filename) #Add the filename to the list \n",
    "    return list "
   ]
  },
  {
   "cell_type": "code",
   "execution_count": null,
   "id": "c2bab63e",
   "metadata": {},
   "outputs": [],
   "source": [
    "#checkpoint directory\n",
    "# need to dl checkpoint seperately\n",
    "CHECKPOINT_DIR = 'gs://magentadata/models/gansynth/acoustic_only'\n",
    "OP_DIR = 'content\\gansynth\\samples' #output directory\n",
    "BATCH_SIZE = 16\n",
    "SR = 16000 #SR stands for Sample Rate "
   ]
  },
  {
   "cell_type": "code",
   "execution_count": null,
   "id": "999d8936",
   "metadata": {},
   "outputs": [],
   "source": [
    "#Expand the path of parent directory using expand_path()\n",
    "OP_DIR = util.expand_path(opdir)\n",
    "#tensorflow.gfile.Exists() determines existence of a file\n",
    "if not tf.gfile.Exists(OP_DIR):\n",
    "#Create a directory using tensorflow.gfile.MakeDirs()\n",
    "tf.gfile.MakeDirs(OP_DIR) "
   ]
  },
  {
   "cell_type": "code",
   "execution_count": null,
   "id": "6769e875",
   "metadata": {},
   "outputs": [],
   "source": []
  }
 ],
 "metadata": {
  "kernelspec": {
   "display_name": "Python3 (tensorflow-ml)",
   "language": "python",
   "name": "tensorflow-ml"
  },
  "language_info": {
   "codemirror_mode": {
    "name": "ipython",
    "version": 3
   },
   "file_extension": ".py",
   "mimetype": "text/x-python",
   "name": "python",
   "nbconvert_exporter": "python",
   "pygments_lexer": "ipython3",
   "version": "3.9.16"
  }
 },
 "nbformat": 4,
 "nbformat_minor": 5
}
