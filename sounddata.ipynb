{
 "cells": [
  {
   "cell_type": "code",
   "execution_count": 2,
   "id": "dff6f956",
   "metadata": {
    "scrolled": true
   },
   "outputs": [
    {
     "name": "stdout",
     "output_type": "stream",
     "text": [
      "Collecting daal==2021.2.3\n",
      "  Downloading daal-2021.2.3-py2.py3-none-win_amd64.whl (63.9 MB)\n",
      "Requirement already satisfied: soundata in c:\\users\\stora\\anaconda3\\lib\\site-packages (0.1.2)\n",
      "Collecting tbb==2021.*\n",
      "  Downloading tbb-2021.7.1-py3-none-win_amd64.whl (278 kB)\n",
      "Requirement already satisfied: librosa>=0.8.0 in c:\\users\\stora\\anaconda3\\lib\\site-packages (from soundata) (0.9.2)\n",
      "Requirement already satisfied: pandas in c:\\users\\stora\\anaconda3\\lib\\site-packages (from soundata) (1.3.4)\n",
      "Requirement already satisfied: tqdm in c:\\users\\stora\\anaconda3\\lib\\site-packages (from soundata) (4.62.3)\n",
      "Requirement already satisfied: jams in c:\\users\\stora\\anaconda3\\lib\\site-packages (from soundata) (0.3.4)\n",
      "Requirement already satisfied: requests in c:\\users\\stora\\anaconda3\\lib\\site-packages (from soundata) (2.26.0)\n",
      "Requirement already satisfied: numpy<=1.20,>=1.16 in c:\\users\\stora\\anaconda3\\lib\\site-packages (from soundata) (1.20.0)\n",
      "Requirement already satisfied: decorator>=4.0.10 in c:\\users\\stora\\anaconda3\\lib\\site-packages (from librosa>=0.8.0->soundata) (5.1.0)\n",
      "Requirement already satisfied: numba>=0.45.1 in c:\\users\\stora\\anaconda3\\lib\\site-packages (from librosa>=0.8.0->soundata) (0.54.1)\n",
      "Requirement already satisfied: soundfile>=0.10.2 in c:\\users\\stora\\anaconda3\\lib\\site-packages (from librosa>=0.8.0->soundata) (0.11.0)\n",
      "Requirement already satisfied: audioread>=2.1.9 in c:\\users\\stora\\anaconda3\\lib\\site-packages (from librosa>=0.8.0->soundata) (3.0.0)\n",
      "Requirement already satisfied: resampy>=0.2.2 in c:\\users\\stora\\anaconda3\\lib\\site-packages (from librosa>=0.8.0->soundata) (0.4.2)\n",
      "Requirement already satisfied: packaging>=20.0 in c:\\users\\stora\\anaconda3\\lib\\site-packages (from librosa>=0.8.0->soundata) (21.0)\n",
      "Requirement already satisfied: scikit-learn>=0.19.1 in c:\\users\\stora\\anaconda3\\lib\\site-packages (from librosa>=0.8.0->soundata) (0.24.2)\n",
      "Requirement already satisfied: scipy>=1.2.0 in c:\\users\\stora\\anaconda3\\lib\\site-packages (from librosa>=0.8.0->soundata) (1.7.1)\n",
      "Requirement already satisfied: pooch>=1.0 in c:\\users\\stora\\anaconda3\\lib\\site-packages (from librosa>=0.8.0->soundata) (1.6.0)\n",
      "Requirement already satisfied: joblib>=0.14 in c:\\users\\stora\\anaconda3\\lib\\site-packages (from librosa>=0.8.0->soundata) (1.1.0)\n",
      "Requirement already satisfied: llvmlite<0.38,>=0.37.0rc1 in c:\\users\\stora\\anaconda3\\lib\\site-packages (from numba>=0.45.1->librosa>=0.8.0->soundata) (0.37.0)\n",
      "Requirement already satisfied: setuptools in c:\\users\\stora\\anaconda3\\lib\\site-packages (from numba>=0.45.1->librosa>=0.8.0->soundata) (58.0.4)\n",
      "Requirement already satisfied: pyparsing>=2.0.2 in c:\\users\\stora\\anaconda3\\lib\\site-packages (from packaging>=20.0->librosa>=0.8.0->soundata) (3.0.4)\n",
      "Requirement already satisfied: appdirs>=1.3.0 in c:\\users\\stora\\anaconda3\\lib\\site-packages (from pooch>=1.0->librosa>=0.8.0->soundata) (1.4.4)\n",
      "Requirement already satisfied: certifi>=2017.4.17 in c:\\users\\stora\\anaconda3\\lib\\site-packages (from requests->soundata) (2021.10.8)\n",
      "Requirement already satisfied: charset-normalizer~=2.0.0 in c:\\users\\stora\\anaconda3\\lib\\site-packages (from requests->soundata) (2.0.4)\n",
      "Requirement already satisfied: idna<4,>=2.5 in c:\\users\\stora\\anaconda3\\lib\\site-packages (from requests->soundata) (3.2)\n",
      "Requirement already satisfied: urllib3<1.27,>=1.21.1 in c:\\users\\stora\\anaconda3\\lib\\site-packages (from requests->soundata) (1.26.14)\n",
      "Requirement already satisfied: threadpoolctl>=2.0.0 in c:\\users\\stora\\anaconda3\\lib\\site-packages (from scikit-learn>=0.19.1->librosa>=0.8.0->soundata) (2.2.0)\n",
      "Requirement already satisfied: cffi>=1.0 in c:\\users\\stora\\anaconda3\\lib\\site-packages (from soundfile>=0.10.2->librosa>=0.8.0->soundata) (1.14.6)\n",
      "Requirement already satisfied: pycparser in c:\\users\\stora\\anaconda3\\lib\\site-packages (from cffi>=1.0->soundfile>=0.10.2->librosa>=0.8.0->soundata) (2.20)\n",
      "Requirement already satisfied: mir-eval>=0.5 in c:\\users\\stora\\anaconda3\\lib\\site-packages (from jams->soundata) (0.7)\n",
      "Requirement already satisfied: jsonschema>=3.0.0 in c:\\users\\stora\\anaconda3\\lib\\site-packages (from jams->soundata) (3.2.0)\n",
      "Requirement already satisfied: six in c:\\users\\stora\\anaconda3\\lib\\site-packages (from jams->soundata) (1.16.0)\n",
      "Requirement already satisfied: sortedcontainers>=2.0.0 in c:\\users\\stora\\anaconda3\\lib\\site-packages (from jams->soundata) (2.4.0)\n",
      "Requirement already satisfied: attrs>=17.4.0 in c:\\users\\stora\\anaconda3\\lib\\site-packages (from jsonschema>=3.0.0->jams->soundata) (21.2.0)\n",
      "Requirement already satisfied: pyrsistent>=0.14.0 in c:\\users\\stora\\anaconda3\\lib\\site-packages (from jsonschema>=3.0.0->jams->soundata) (0.18.0)\n",
      "Requirement already satisfied: future in c:\\users\\stora\\anaconda3\\lib\\site-packages (from mir-eval>=0.5->jams->soundata) (0.18.2)\n",
      "Requirement already satisfied: python-dateutil>=2.7.3 in c:\\users\\stora\\anaconda3\\lib\\site-packages (from pandas->soundata) (2.8.2)\n",
      "Requirement already satisfied: pytz>=2017.3 in c:\\users\\stora\\anaconda3\\lib\\site-packages (from pandas->soundata) (2021.3)\n",
      "Requirement already satisfied: colorama in c:\\users\\stora\\anaconda3\\lib\\site-packages (from tqdm->soundata) (0.4.4)\n",
      "Installing collected packages: tbb, daal\n",
      "  Attempting uninstall: tbb\n",
      "    Found existing installation: TBB 0.2\n"
     ]
    },
    {
     "name": "stderr",
     "output_type": "stream",
     "text": [
      "ERROR: Cannot uninstall 'TBB'. It is a distutils installed project and thus we cannot accurately determine which files belong to it which would lead to only a partial uninstall.\n"
     ]
    },
    {
     "ename": "ModuleNotFoundError",
     "evalue": "No module named 'soundata'",
     "output_type": "error",
     "traceback": [
      "\u001b[1;31m---------------------------------------------------------------------------\u001b[0m",
      "\u001b[1;31mModuleNotFoundError\u001b[0m                       Traceback (most recent call last)",
      "Cell \u001b[1;32mIn[2], line 2\u001b[0m\n\u001b[0;32m      1\u001b[0m get_ipython()\u001b[38;5;241m.\u001b[39msystem(\u001b[38;5;124m'\u001b[39m\u001b[38;5;124mpip install daal==2021.2.3 soundata\u001b[39m\u001b[38;5;124m'\u001b[39m)\n\u001b[1;32m----> 2\u001b[0m \u001b[38;5;28;01mimport\u001b[39;00m \u001b[38;5;21;01msoundata\u001b[39;00m\n\u001b[0;32m      4\u001b[0m dataset \u001b[38;5;241m=\u001b[39m soundata\u001b[38;5;241m.\u001b[39minitialize(\u001b[38;5;124m'\u001b[39m\u001b[38;5;124murbansound8k\u001b[39m\u001b[38;5;124m'\u001b[39m)\n\u001b[0;32m      5\u001b[0m dataset\u001b[38;5;241m.\u001b[39mdownload()  \u001b[38;5;66;03m# download the dataset\u001b[39;00m\n",
      "\u001b[1;31mModuleNotFoundError\u001b[0m: No module named 'soundata'"
     ]
    }
   ],
   "source": [
    "##### !pip install daal soundata tbb\n",
    "import soundata pyaudio\n",
    "\n",
    "dataset = soundata.initialize('urbansound8k')\n",
    "listing = soundata.dir()\n",
    "print(\"here's the available top level methods: \")\n",
    "print([it for it in listing])\n",
    "dataset.download()  # download the dataset\n",
    "dataset.validate()  # validate that all the expected files are there\n",
    "\n",
    "example_clip = dataset.choice_clip()  # choose a random example clip\n",
    "print(example_clip)  # see the available data"
   ]
  },
  {
   "cell_type": "code",
   "execution_count": null,
   "id": "d51b7edb",
   "metadata": {},
   "outputs": [],
   "source": [
    "# Feature extraction example\n",
    "import numpy as np\n",
    "import librosa\n",
    "\n",
    "# Load the example clip\n",
    "y, sr = librosa.load(librosa.ex('nutcracker'))\n",
    "\n",
    "# Set the hop length; at 22050 Hz, 512 samples ~= 23ms\n",
    "hop_length = 512\n",
    "\n",
    "# Separate harmonics and percussives into two waveforms\n",
    "y_harmonic, y_percussive = librosa.effects.hpss(y)\n",
    "\n",
    "# Beat track on the percussive signal\n",
    "tempo, beat_frames = librosa.beat.beat_track(y=y_percussive,\n",
    "                                             sr=sr)\n",
    "\n",
    "# Compute MFCC features from the raw signal\n",
    "mfcc = librosa.feature.mfcc(y=y, sr=sr, hop_length=hop_length, n_mfcc=13)\n",
    "\n",
    "# And the first-order differences (delta features)\n",
    "mfcc_delta = librosa.feature.delta(mfcc)\n",
    "\n",
    "# Stack and synchronize between beat events\n",
    "# This time, we'll use the mean value (default) instead of median\n",
    "beat_mfcc_delta = librosa.util.sync(np.vstack([mfcc, mfcc_delta]),\n",
    "                                    beat_frames)\n",
    "\n",
    "# Compute chroma features from the harmonic signal\n",
    "chromagram = librosa.feature.chroma_cqt(y=y_harmonic,\n",
    "                                        sr=sr)\n",
    "\n",
    "# Aggregate chroma features between beat events\n",
    "# We'll use the median value of each feature between beat frames\n",
    "beat_chroma = librosa.util.sync(chromagram,\n",
    "                                beat_frames,\n",
    "                                aggregate=np.median)\n",
    "\n",
    "# Finally, stack all beat-synchronous features together\n",
    "beat_features = np.vstack([beat_chroma, beat_mfcc_delta])"
   ]
  }
 ],
 "metadata": {
  "kernelspec": {
   "display_name": "Python3 (torch-ml)",
   "language": "python",
   "name": "jupyter-general"
  },
  "language_info": {
   "codemirror_mode": {
    "name": "ipython",
    "version": 3
   },
   "file_extension": ".py",
   "mimetype": "text/x-python",
   "name": "python",
   "nbconvert_exporter": "python",
   "pygments_lexer": "ipython3",
   "version": "3.10.9"
  }
 },
 "nbformat": 4,
 "nbformat_minor": 5
}
